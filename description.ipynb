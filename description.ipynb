{
 "cells": [
  {
   "cell_type": "markdown",
   "metadata": {},
   "source": [
    "# XMind 前端面试大作业 - 说明文档"
   ]
  },
  {
   "cell_type": "markdown",
   "metadata": {},
   "source": [
    "## 技术选型\n",
    "### 前端\n",
    "\n",
    "1. 尽管官方在需求文档中提及:“本作业不设置任何的技术限制”。但是，在官方发布在拉勾网（lagou.com）的招聘信息的标签当中，明确标明了“Vue”。我也因此选择Vue作为前端框架。\n",
    "2. 基于“必须积极拥抱新技术”的基本原则，选择Vue3这个版本\n",
    "3. 我查看了xmind官网中的“图库”（或者“Mindmaps”）页面中的一些思维导图的代码，我确定了官方使用UIKit作为UI组件库。\n",
    "4. Vue-Cli是Vue官方的，非常成熟的脚手架程序，有效地省去配置项目的时间\n",
    "5. 项目中需要调用的数据结构相对简单，且数据量相对较小，所以选择Javascript我认为更加“实惠的”选择\n",
    "\n",
    "### 后端\n",
    "\n",
    "1. 因为Vue框架是依赖于NodeJS的，且是我一个人同时负责前端+后端，所以使用基于其他语言的后端框架是不明智的。\n",
    "2. 后端的数据库是SQLite3，因为在没法控制自己提交的代码会被怎样进行测试的大前提下，把数据库文件打包放到后端根目录最安全\n",
    "3. 选Express的主要原因单纯是上大学的时候，老师教简单Web开发，安卓开发和云开发的时候都是用的Express当后端框架（其实主要原因是这三门课是一个老师教）"
   ]
  },
  {
   "cell_type": "markdown",
   "metadata": {},
   "source": [
    "## 前端功能\n",
    "1. 使用Chart.js库提供的条形图对获取到的数据进行分类排序\n",
    "2. 允许用户插入一条新的记账数据\n",
    "3. 允许用户按月份进行查询，或者按年，甚至获取全部数据（默认）\n",
    "4. 允许用户在进行时间限定的基础之上，再选择一个、复数个、甚至所有分类作为筛选条件\n",
    "5. 将从后端获取的所有数据存储在table中，并提供分页显示。每页至多10条记录。\n",
    "6. 多余功能一号，提供一个帮助页，以遮罩的形式构建（虽然背景不透明度为0）\n",
    "7. 多余功能二号，因为想到xmind主业是思维导图，所以用d3js手写了一张思维导图。为了显得我很“数学”，我保留了画曲线时用来调试的标记点\n",
    "\n",
    "## 后端接口\n",
    "1. 获取整张bill 表\n",
    "2. 获取整张categories表\n",
    "3. 获取将分类ID翻译成分类名的bill表\n",
    "4. 添加一条记录\n",
    "5. 按照年份、月份、类别筛选\n",
    "6. 获取bill表中条目数（前端没用这个接口）\n"
   ]
  },
  {
   "cell_type": "markdown",
   "metadata": {},
   "source": [
    "## 开发环境\n",
    "### 硬件环境\n",
    "* MacBook Pro（14英寸，2021年）\n",
    "* Apple M1 Pro\n",
    "* macOS Monterey 12.3.1\n",
    "### 软件环境\n",
    "*  NodeJS - v18.0.0\n",
    "*  Yarn - 1.22.17\n",
    "*  Vue-cli - @vue/cli 5.0.4\n",
    "*  SQLite3 - 3.37.0 2021-12-09 01:34:53 9ff244ce0739f8ee52a3e9671adb4ee54c83c640b02e3f9d185fd2f9a179aapl"
   ]
  },
  {
   "cell_type": "markdown",
   "metadata": {},
   "source": [
    "## 使用方法\n",
    "1. 安装上述四个软件\n",
    "2. 安装完以后，运行 “bash start.sh”，理论上就可以皆大欢喜\n",
    "3. 如果还是不行，请找个文本编辑器打开start.sh 然后把里面关于前端和后端的步骤分别开个终端跑一下\n",
    "4. 如果yarn在电脑上罢工，欢迎用最新的npm"
   ]
  },
  {
   "cell_type": "markdown",
   "metadata": {},
   "source": [
    "![APP全貌](./pic_01.png)"
   ]
  }
 ],
 "metadata": {
  "kernelspec": {
   "display_name": "Python 3 (ipykernel)",
   "language": "python",
   "name": "python3"
  },
  "language_info": {
   "codemirror_mode": {
    "name": "ipython",
    "version": 3
   },
   "file_extension": ".py",
   "mimetype": "text/x-python",
   "name": "python",
   "nbconvert_exporter": "python",
   "pygments_lexer": "ipython3",
   "version": "3.9.12"
  }
 },
 "nbformat": 4,
 "nbformat_minor": 2
}
